{
 "cells": [
  {
   "cell_type": "markdown",
   "metadata": {},
   "source": [
    "# WeatherPy\n",
    "----\n",
    "\n",
    "#### Note\n",
    "* Instructions have been included for each segment. You do not have to follow them exactly, but they are included to help you think through the steps."
   ]
  },
  {
   "cell_type": "code",
   "execution_count": 1,
   "metadata": {
    "scrolled": true
   },
   "outputs": [],
   "source": [
    "# Dependencies and Setup\n",
    "import matplotlib.pyplot as plt\n",
    "import pandas as pd\n",
    "import numpy as np\n",
    "import requests\n",
    "import time\n",
    "from scipy.stats import linregress\n",
    "\n",
    "# Import API key\n",
    "from api_keys import weather_api_key\n",
    "\n",
    "# Incorporated citipy to determine city based on latitude and longitude\n",
    "from citipy import citipy\n",
    "\n",
    "\n",
    "# Output File (CSV)\n",
    "output_data_file = \"output_data/cities.csv\"\n",
    "\n",
    "# Range of latitudes and longitudes\n",
    "lat_range = (-90, 90)\n",
    "lng_range = (-180, 180)"
   ]
  },
  {
   "cell_type": "markdown",
   "metadata": {},
   "source": [
    "## Generate Cities List"
   ]
  },
  {
   "cell_type": "code",
   "execution_count": 2,
   "metadata": {},
   "outputs": [
    {
     "data": {
      "text/plain": [
       "601"
      ]
     },
     "execution_count": 2,
     "metadata": {},
     "output_type": "execute_result"
    }
   ],
   "source": [
    "# List for holding lat_lngs and cities\n",
    "lat_lngs = []\n",
    "cities = []\n",
    "\n",
    "# Create a set of random lat and lng combinations\n",
    "lats = np.random.uniform(lat_range[0], lat_range[1], size=1500)\n",
    "lngs = np.random.uniform(lng_range[0], lng_range[1], size=1500)\n",
    "lat_lngs = zip(lats, lngs)\n",
    "\n",
    "# Identify nearest city for each lat, lng combination\n",
    "for lat_lng in lat_lngs:\n",
    "    city = citipy.nearest_city(lat_lng[0], lat_lng[1]).city_name\n",
    "    \n",
    "    # If the city is unique, then add it to a our cities list\n",
    "    if city not in cities:\n",
    "        cities.append(city)\n",
    "\n",
    "# Print the city count to confirm sufficient count\n",
    "len(cities)"
   ]
  },
  {
   "cell_type": "markdown",
   "metadata": {},
   "source": [
    "### Perform API Calls\n",
    "* Perform a weather check on each city using a series of successive API calls.\n",
    "* Include a print log of each city as it'sbeing processed (with the city number and city name).\n"
   ]
  },
  {
   "cell_type": "code",
   "execution_count": 3,
   "metadata": {
    "scrolled": true
   },
   "outputs": [
    {
     "name": "stdout",
     "output_type": "stream",
     "text": [
      "Beginning Data Retrieval\n",
      "-----------------------------\n",
      "Processing Record 1 of Set 1 :sao joao da barra\n",
      "Processing Record 2 of Set 1 :kenai\n",
      "Processing Record 3 of Set 1 :enugu\n",
      "City not found. Skipping...\n",
      "Processing Record 4 of Set 1 :kavieng\n",
      "Processing Record 5 of Set 1 :port hedland\n",
      "Processing Record 6 of Set 1 :cabo san lucas\n",
      "Processing Record 7 of Set 1 :ushtobe\n",
      "City not found. Skipping...\n",
      "Processing Record 8 of Set 1 :payakumbuh\n",
      "Processing Record 9 of Set 1 :gat\n",
      "Processing Record 10 of Set 1 :avera\n",
      "Processing Record 11 of Set 1 :albany\n",
      "Processing Record 12 of Set 1 :tuktoyaktuk\n",
      "Processing Record 13 of Set 1 :gobabis\n",
      "Processing Record 14 of Set 1 :seddon\n",
      "Processing Record 15 of Set 1 :aldan\n",
      "Processing Record 16 of Set 1 :troitskoye\n",
      "City not found. Skipping...\n",
      "Processing Record 17 of Set 1 :vanimo\n",
      "Processing Record 18 of Set 1 :fairbanks\n",
      "Processing Record 19 of Set 1 :lhokseumawe\n",
      "Processing Record 20 of Set 1 :chokurdakh\n",
      "Processing Record 21 of Set 1 :marsh harbour\n",
      "Processing Record 22 of Set 1 :iqaluit\n",
      "Processing Record 23 of Set 1 :busselton\n",
      "Processing Record 24 of Set 1 :bluff\n",
      "Processing Record 25 of Set 1 :mezen\n",
      "Processing Record 26 of Set 1 :rikitea\n",
      "Processing Record 27 of Set 1 :soyo\n",
      "Processing Record 28 of Set 1 :moose factory\n",
      "Processing Record 29 of Set 1 :georgetown\n",
      "Processing Record 30 of Set 1 :lexington\n",
      "Processing Record 31 of Set 1 :baykit\n",
      "City not found. Skipping...\n",
      "Processing Record 32 of Set 1 :port elizabeth\n",
      "Processing Record 33 of Set 1 :saint-augustin\n",
      "Processing Record 34 of Set 1 :ushuaia\n",
      "Processing Record 35 of Set 1 :madang\n",
      "City not found. Skipping...\n",
      "Processing Record 36 of Set 1 :tiksi\n",
      "City not found. Skipping...\n",
      "City not found. Skipping...\n",
      "Processing Record 37 of Set 1 :kyra\n",
      "Processing Record 38 of Set 1 :mataura\n",
      "City not found. Skipping...\n",
      "Processing Record 39 of Set 1 :saint-pierre\n",
      "City not found. Skipping...\n",
      "Processing Record 40 of Set 1 :qaanaaq\n",
      "Processing Record 41 of Set 1 :bambous virieux\n",
      "Processing Record 42 of Set 1 :bredasdorp\n",
      "Processing Record 43 of Set 1 :kaeo\n",
      "Processing Record 44 of Set 1 :mar del plata\n",
      "Processing Record 45 of Set 1 :punta arenas\n",
      "Processing Record 46 of Set 1 :port blair\n",
      "Processing Record 47 of Set 1 :kautokeino\n",
      "Processing Record 48 of Set 1 :butaritari\n",
      "Processing Record 49 of Set 1 :itarema\n",
      "Processing Record 50 of Set 1 :chulman\n",
      "Processing Record 0 of Set 2 :kassala\n",
      "Processing Record 1 of Set 2 :port alfred\n",
      "Processing Record 2 of Set 2 :kapaa\n",
      "Processing Record 3 of Set 2 :alihe\n",
      "Processing Record 4 of Set 2 :omboue\n",
      "Processing Record 5 of Set 2 :besikduzu\n",
      "Processing Record 6 of Set 2 :sao filipe\n",
      "Processing Record 7 of Set 2 :vaini\n",
      "Processing Record 8 of Set 2 :marzuq\n",
      "Processing Record 9 of Set 2 :boguchany\n",
      "Processing Record 10 of Set 2 :dikson\n",
      "Processing Record 11 of Set 2 :tateyama\n",
      "Processing Record 12 of Set 2 :cherskiy\n",
      "Processing Record 13 of Set 2 :belaya gora\n",
      "Processing Record 14 of Set 2 :camapua\n",
      "Processing Record 15 of Set 2 :havoysund\n",
      "Processing Record 16 of Set 2 :save\n",
      "Processing Record 17 of Set 2 :isangel\n",
      "Processing Record 18 of Set 2 :esperance\n",
      "Processing Record 19 of Set 2 :tura\n",
      "Processing Record 20 of Set 2 :hambantota\n",
      "Processing Record 21 of Set 2 :provost\n",
      "Processing Record 22 of Set 2 :victoria\n",
      "Processing Record 23 of Set 2 :casa nova\n",
      "Processing Record 24 of Set 2 :yar-sale\n",
      "Processing Record 25 of Set 2 :shahrud\n",
      "Processing Record 26 of Set 2 :kaseda\n",
      "Processing Record 27 of Set 2 :cape town\n",
      "City not found. Skipping...\n",
      "Processing Record 28 of Set 2 :puerto ayora\n",
      "Processing Record 29 of Set 2 :kitimat\n",
      "Processing Record 30 of Set 2 :pevek\n",
      "Processing Record 31 of Set 2 :rudsar\n",
      "City not found. Skipping...\n",
      "Processing Record 32 of Set 2 :laguna\n",
      "Processing Record 33 of Set 2 :airai\n",
      "Processing Record 34 of Set 2 :sept-iles\n",
      "Processing Record 35 of Set 2 :sola\n",
      "Processing Record 36 of Set 2 :dingle\n",
      "Processing Record 37 of Set 2 :waingapu\n",
      "Processing Record 38 of Set 2 :yingcheng\n",
      "Processing Record 39 of Set 2 :kutum\n",
      "City not found. Skipping...\n",
      "Processing Record 40 of Set 2 :sitka\n",
      "Processing Record 41 of Set 2 :opuwo\n",
      "Processing Record 42 of Set 2 :kaitangata\n",
      "Processing Record 43 of Set 2 :luderitz\n",
      "Processing Record 44 of Set 2 :muros\n",
      "Processing Record 45 of Set 2 :hobart\n",
      "Processing Record 46 of Set 2 :avarua\n",
      "Processing Record 47 of Set 2 :atuona\n",
      "Processing Record 48 of Set 2 :ostrovnoy\n",
      "Processing Record 49 of Set 2 :saskylakh\n",
      "Processing Record 50 of Set 2 :namwala\n",
      "City not found. Skipping...\n",
      "Processing Record 0 of Set 3 :bathsheba\n",
      "Processing Record 1 of Set 3 :saint-joseph\n",
      "Processing Record 2 of Set 3 :newport\n",
      "Processing Record 3 of Set 3 :saint-philippe\n",
      "Processing Record 4 of Set 3 :coquimbo\n",
      "Processing Record 5 of Set 3 :port hardy\n",
      "Processing Record 6 of Set 3 :westport\n",
      "Processing Record 7 of Set 3 :vestmanna\n",
      "Processing Record 8 of Set 3 :lucea\n",
      "Processing Record 9 of Set 3 :tessalit\n",
      "Processing Record 10 of Set 3 :urucui\n",
      "Processing Record 11 of Set 3 :alofi\n",
      "Processing Record 12 of Set 3 :san patricio\n",
      "Processing Record 13 of Set 3 :clyde river\n",
      "Processing Record 14 of Set 3 :bethel\n",
      "Processing Record 15 of Set 3 :santa fe\n",
      "Processing Record 16 of Set 3 :celestun\n",
      "Processing Record 17 of Set 3 :pundaguitan\n",
      "Processing Record 18 of Set 3 :jamestown\n",
      "Processing Record 19 of Set 3 :matagami\n",
      "Processing Record 20 of Set 3 :barra\n",
      "Processing Record 21 of Set 3 :nova petropolis\n",
      "Processing Record 22 of Set 3 :tumut\n",
      "City not found. Skipping...\n",
      "Processing Record 23 of Set 3 :yanam\n",
      "Processing Record 24 of Set 3 :hagonoy\n",
      "Processing Record 25 of Set 3 :makungu\n",
      "Processing Record 26 of Set 3 :udachnyy\n",
      "Processing Record 27 of Set 3 :poum\n",
      "Processing Record 28 of Set 3 :buala\n",
      "City not found. Skipping...\n",
      "Processing Record 29 of Set 3 :necochea\n",
      "Processing Record 30 of Set 3 :saint anthony\n",
      "Processing Record 31 of Set 3 :nantucket\n",
      "Processing Record 32 of Set 3 :yellowknife\n",
      "Processing Record 33 of Set 3 :brownsville\n",
      "Processing Record 34 of Set 3 :labuhan\n",
      "Processing Record 35 of Set 3 :hilo\n",
      "Processing Record 36 of Set 3 :kruisfontein\n",
      "Processing Record 37 of Set 3 :mahebourg\n",
      "Processing Record 38 of Set 3 :nanortalik\n",
      "Processing Record 39 of Set 3 :klaksvik\n",
      "Processing Record 40 of Set 3 :vila franca do campo\n",
      "Processing Record 41 of Set 3 :eresos\n",
      "Processing Record 42 of Set 3 :katiola\n",
      "Processing Record 43 of Set 3 :hornepayne\n",
      "Processing Record 44 of Set 3 :nemuro\n",
      "Processing Record 45 of Set 3 :kysyl-syr\n",
      "Processing Record 46 of Set 3 :college park\n",
      "Processing Record 47 of Set 3 :tasiilaq\n",
      "Processing Record 48 of Set 3 :gao\n",
      "Processing Record 49 of Set 3 :shaowu\n",
      "Processing Record 50 of Set 3 :veraval\n",
      "Processing Record 0 of Set 4 :hithadhoo\n",
      "Processing Record 1 of Set 4 :mehamn\n",
      "Processing Record 2 of Set 4 :langenburg\n",
      "Processing Record 3 of Set 4 :chuy\n",
      "Processing Record 4 of Set 4 :trapani\n",
      "Processing Record 5 of Set 4 :scarborough\n",
      "Processing Record 6 of Set 4 :jabinyanah\n",
      "City not found. Skipping...\n",
      "Processing Record 7 of Set 4 :upernavik\n",
      "Processing Record 8 of Set 4 :yatou\n",
      "City not found. Skipping...\n",
      "Processing Record 9 of Set 4 :fortuna\n",
      "Processing Record 10 of Set 4 :bereda\n",
      "Processing Record 11 of Set 4 :khatanga\n",
      "Processing Record 12 of Set 4 :east london\n",
      "Processing Record 13 of Set 4 :suratgarh\n",
      "Processing Record 14 of Set 4 :dubbo\n",
      "Processing Record 15 of Set 4 :castro\n",
      "Processing Record 16 of Set 4 :vostok\n",
      "Processing Record 17 of Set 4 :nyuksenitsa\n",
      "Processing Record 18 of Set 4 :lata\n",
      "Processing Record 19 of Set 4 :fare\n",
      "Processing Record 20 of Set 4 :new norfolk\n",
      "Processing Record 21 of Set 4 :katobu\n",
      "Processing Record 22 of Set 4 :sosnovka\n",
      "Processing Record 23 of Set 4 :cidreira\n",
      "Processing Record 24 of Set 4 :general roca\n",
      "Processing Record 25 of Set 4 :flin flon\n",
      "Processing Record 26 of Set 4 :hermanus\n",
      "Processing Record 27 of Set 4 :narsaq\n",
      "Processing Record 28 of Set 4 :mao\n",
      "City not found. Skipping...\n",
      "Processing Record 29 of Set 4 :ponta do sol\n",
      "Processing Record 30 of Set 4 :byron bay\n",
      "Processing Record 31 of Set 4 :belyy yar\n",
      "Processing Record 32 of Set 4 :multai\n",
      "City not found. Skipping...\n",
      "Processing Record 33 of Set 4 :eyl\n",
      "Processing Record 34 of Set 4 :hualmay\n",
      "Processing Record 35 of Set 4 :barranca\n",
      "Processing Record 36 of Set 4 :camacha\n",
      "Processing Record 37 of Set 4 :camocim\n",
      "Processing Record 38 of Set 4 :norton shores\n",
      "Processing Record 39 of Set 4 :tiarei\n"
     ]
    },
    {
     "name": "stdout",
     "output_type": "stream",
     "text": [
      "Processing Record 40 of Set 4 :dawei\n",
      "Processing Record 41 of Set 4 :paamiut\n",
      "Processing Record 42 of Set 4 :tutoia\n",
      "Processing Record 43 of Set 4 :denpasar\n",
      "Processing Record 44 of Set 4 :ust-kuyga\n",
      "City not found. Skipping...\n",
      "Processing Record 45 of Set 4 :geraldton\n",
      "Processing Record 46 of Set 4 :dudinka\n",
      "Processing Record 47 of Set 4 :ribeira grande\n",
      "Processing Record 48 of Set 4 :saint george\n",
      "Processing Record 49 of Set 4 :xiongyue\n",
      "Processing Record 50 of Set 4 :tchollire\n",
      "Processing Record 0 of Set 5 :krasnovishersk\n",
      "Processing Record 1 of Set 5 :petropavlovsk-kamchatskiy\n",
      "Processing Record 2 of Set 5 :faanui\n",
      "Processing Record 3 of Set 5 :dubai\n",
      "Processing Record 4 of Set 5 :salina\n",
      "Processing Record 5 of Set 5 :rovaniemi\n",
      "Processing Record 6 of Set 5 :vestmannaeyjar\n",
      "Processing Record 7 of Set 5 :starokorsunskaya\n",
      "Processing Record 8 of Set 5 :san cristobal\n",
      "City not found. Skipping...\n",
      "Processing Record 9 of Set 5 :nata\n",
      "Processing Record 10 of Set 5 :arraial do cabo\n",
      "City not found. Skipping...\n",
      "Processing Record 11 of Set 5 :sarakhs\n",
      "Processing Record 12 of Set 5 :palora\n",
      "Processing Record 13 of Set 5 :kihei\n",
      "Processing Record 14 of Set 5 :codrington\n",
      "Processing Record 15 of Set 5 :goderich\n",
      "Processing Record 16 of Set 5 :iracoubo\n",
      "Processing Record 17 of Set 5 :barrow\n",
      "Processing Record 18 of Set 5 :constitucion\n",
      "Processing Record 19 of Set 5 :santa maria\n",
      "Processing Record 20 of Set 5 :quatre cocos\n",
      "Processing Record 21 of Set 5 :daru\n",
      "Processing Record 22 of Set 5 :uyemskiy\n",
      "Processing Record 23 of Set 5 :ekimchan\n",
      "Processing Record 24 of Set 5 :bhattiprolu\n",
      "Processing Record 25 of Set 5 :kununurra\n",
      "Processing Record 26 of Set 5 :nueva loja\n",
      "Processing Record 27 of Set 5 :sungairaya\n",
      "Processing Record 28 of Set 5 :villa carlos paz\n",
      "Processing Record 29 of Set 5 :manoel urbano\n",
      "Processing Record 30 of Set 5 :pisco\n",
      "Processing Record 31 of Set 5 :dargaville\n",
      "Processing Record 32 of Set 5 :hailey\n",
      "Processing Record 33 of Set 5 :coahuayana\n",
      "Processing Record 34 of Set 5 :grindavik\n",
      "Processing Record 35 of Set 5 :huarmey\n",
      "Processing Record 36 of Set 5 :san quintin\n",
      "Processing Record 37 of Set 5 :pringsewu\n",
      "Processing Record 38 of Set 5 :anadyr\n",
      "Processing Record 39 of Set 5 :camana\n",
      "Processing Record 40 of Set 5 :longkou\n",
      "Processing Record 41 of Set 5 :frederick\n",
      "Processing Record 42 of Set 5 :okhotsk\n",
      "Processing Record 43 of Set 5 :njombe\n",
      "Processing Record 44 of Set 5 :nikolskoye\n",
      "Processing Record 45 of Set 5 :vardo\n",
      "Processing Record 46 of Set 5 :eureka\n",
      "Processing Record 47 of Set 5 :zyryanovsk\n",
      "Processing Record 48 of Set 5 :saint-leu\n",
      "Processing Record 49 of Set 5 :kieta\n",
      "Processing Record 50 of Set 5 :sale\n",
      "Processing Record 0 of Set 6 :souillac\n",
      "Processing Record 1 of Set 6 :tarabha\n",
      "Processing Record 2 of Set 6 :santa maria del oro\n",
      "Processing Record 3 of Set 6 :mitu\n",
      "Processing Record 4 of Set 6 :henties bay\n",
      "Processing Record 5 of Set 6 :touros\n",
      "Processing Record 6 of Set 6 :kabwe\n",
      "Processing Record 7 of Set 6 :awbari\n",
      "Processing Record 8 of Set 6 :asau\n",
      "Processing Record 9 of Set 6 :jiexiu\n",
      "Processing Record 10 of Set 6 :aykhal\n",
      "Processing Record 11 of Set 6 :ambilobe\n",
      "Processing Record 12 of Set 6 :addanki\n",
      "Processing Record 13 of Set 6 :issoire\n",
      "Processing Record 14 of Set 6 :kiknur\n",
      "Processing Record 15 of Set 6 :billings\n",
      "Processing Record 16 of Set 6 :vao\n",
      "Processing Record 17 of Set 6 :ivybridge\n",
      "Processing Record 18 of Set 6 :savannah bight\n",
      "Processing Record 19 of Set 6 :noumea\n",
      "Processing Record 20 of Set 6 :svetlyy\n",
      "City not found. Skipping...\n",
      "Processing Record 21 of Set 6 :cayenne\n",
      "Processing Record 22 of Set 6 :mount isa\n",
      "Processing Record 23 of Set 6 :dinghai\n",
      "Processing Record 24 of Set 6 :the valley\n",
      "City not found. Skipping...\n",
      "Processing Record 25 of Set 6 :menemen\n",
      "Processing Record 26 of Set 6 :aksu\n",
      "Processing Record 27 of Set 6 :bilibino\n",
      "Processing Record 28 of Set 6 :tommot\n",
      "Processing Record 29 of Set 6 :nioro\n",
      "Processing Record 30 of Set 6 :tuatapere\n",
      "Processing Record 31 of Set 6 :saldanha\n",
      "Processing Record 32 of Set 6 :srednekolymsk\n",
      "Processing Record 33 of Set 6 :rocha\n",
      "Processing Record 34 of Set 6 :bengkulu\n",
      "Processing Record 35 of Set 6 :lar\n",
      "Processing Record 36 of Set 6 :altay\n",
      "Processing Record 37 of Set 6 :khorixas\n",
      "Processing Record 38 of Set 6 :umm kaddadah\n",
      "Processing Record 39 of Set 6 :leningradskiy\n",
      "Processing Record 40 of Set 6 :urumqi\n",
      "Processing Record 41 of Set 6 :vila velha\n",
      "Processing Record 42 of Set 6 :ilulissat\n",
      "City not found. Skipping...\n",
      "City not found. Skipping...\n",
      "Processing Record 43 of Set 6 :katsuura\n",
      "City not found. Skipping...\n",
      "Processing Record 44 of Set 6 :rosarito\n",
      "Processing Record 45 of Set 6 :jackson\n",
      "Processing Record 46 of Set 6 :sidi ali\n",
      "Processing Record 47 of Set 6 :novobirilyussy\n",
      "Processing Record 48 of Set 6 :darhan\n",
      "Processing Record 49 of Set 6 :kodiak\n",
      "Processing Record 50 of Set 6 :broome\n",
      "Processing Record 0 of Set 7 :kavaratti\n",
      "Processing Record 1 of Set 7 :rudbar\n",
      "Processing Record 2 of Set 7 :nhulunbuy\n",
      "Processing Record 3 of Set 7 :namatanai\n",
      "Processing Record 4 of Set 7 :doka\n",
      "Processing Record 5 of Set 7 :san juan de la maguana\n",
      "Processing Record 6 of Set 7 :portland\n",
      "Processing Record 7 of Set 7 :taoudenni\n",
      "Processing Record 8 of Set 7 :port hawkesbury\n",
      "Processing Record 9 of Set 7 :colac\n",
      "Processing Record 10 of Set 7 :talnakh\n",
      "Processing Record 11 of Set 7 :chalchihuites\n",
      "Processing Record 12 of Set 7 :salalah\n",
      "Processing Record 13 of Set 7 :bambey\n",
      "Processing Record 14 of Set 7 :ust-maya\n",
      "Processing Record 15 of Set 7 :chicama\n",
      "Processing Record 16 of Set 7 :sciacca\n",
      "Processing Record 17 of Set 7 :halifax\n",
      "Processing Record 18 of Set 7 :okato\n",
      "Processing Record 19 of Set 7 :cassilandia\n",
      "Processing Record 20 of Set 7 :north bend\n",
      "City not found. Skipping...\n",
      "Processing Record 21 of Set 7 :wadi musa\n",
      "City not found. Skipping...\n",
      "Processing Record 22 of Set 7 :provideniya\n",
      "Processing Record 23 of Set 7 :sinop\n",
      "Processing Record 24 of Set 7 :bud\n",
      "Processing Record 25 of Set 7 :alexandria\n",
      "Processing Record 26 of Set 7 :taltal\n",
      "Processing Record 27 of Set 7 :kalmunai\n",
      "Processing Record 28 of Set 7 :kamwenge\n",
      "Processing Record 29 of Set 7 :mastic beach\n",
      "Processing Record 30 of Set 7 :lodeynoye pole\n",
      "Processing Record 31 of Set 7 :seymchan\n",
      "Processing Record 32 of Set 7 :severo-kurilsk\n",
      "Processing Record 33 of Set 7 :bismil\n",
      "Processing Record 34 of Set 7 :gigmoto\n",
      "City not found. Skipping...\n",
      "Processing Record 35 of Set 7 :acapulco\n",
      "Processing Record 36 of Set 7 :boa vista\n",
      "Processing Record 37 of Set 7 :ancud\n",
      "Processing Record 38 of Set 7 :luanda\n",
      "Processing Record 39 of Set 7 :belmonte\n",
      "Processing Record 40 of Set 7 :marsa matruh\n",
      "Processing Record 41 of Set 7 :santarem\n",
      "Processing Record 42 of Set 7 :ketchikan\n",
      "Processing Record 43 of Set 7 :namanga\n",
      "Processing Record 44 of Set 7 :lompoc\n",
      "Processing Record 45 of Set 7 :dillon\n",
      "Processing Record 46 of Set 7 :banda aceh\n",
      "Processing Record 47 of Set 7 :torres\n",
      "Processing Record 48 of Set 7 :umm lajj\n",
      "Processing Record 49 of Set 7 :tazovskiy\n",
      "Processing Record 50 of Set 7 :vanavara\n",
      "Processing Record 0 of Set 8 :samarai\n",
      "Processing Record 1 of Set 8 :suntar\n",
      "Processing Record 2 of Set 8 :jiaocheng\n",
      "Processing Record 3 of Set 8 :iralaya\n",
      "Processing Record 4 of Set 8 :thompson\n",
      "Processing Record 5 of Set 8 :ayan\n",
      "Processing Record 6 of Set 8 :longyearbyen\n",
      "Processing Record 7 of Set 8 :chernyshevskiy\n",
      "Processing Record 8 of Set 8 :tondano\n",
      "Processing Record 9 of Set 8 :aklavik\n",
      "Processing Record 10 of Set 8 :kapuskasing\n",
      "Processing Record 11 of Set 8 :praia da vitoria\n",
      "Processing Record 12 of Set 8 :sabang\n",
      "Processing Record 13 of Set 8 :high level\n",
      "Processing Record 14 of Set 8 :mbanza-ngungu\n",
      "Processing Record 15 of Set 8 :lebu\n",
      "Processing Record 16 of Set 8 :pandaria\n",
      "Processing Record 17 of Set 8 :namibe\n",
      "Processing Record 18 of Set 8 :hit\n",
      "Processing Record 19 of Set 8 :othaya\n",
      "City not found. Skipping...\n",
      "Processing Record 20 of Set 8 :pocone\n",
      "City not found. Skipping...\n",
      "Processing Record 21 of Set 8 :mnogovershinnyy\n",
      "Processing Record 22 of Set 8 :faya\n",
      "Processing Record 23 of Set 8 :kermanshah\n",
      "Processing Record 24 of Set 8 :illela\n",
      "Processing Record 25 of Set 8 :hoquiam\n",
      "Processing Record 26 of Set 8 :ruteng\n",
      "Processing Record 27 of Set 8 :laurel\n",
      "Processing Record 28 of Set 8 :alzamay\n",
      "Processing Record 29 of Set 8 :pontianak\n",
      "Processing Record 30 of Set 8 :turukhansk\n",
      "Processing Record 31 of Set 8 :bedele\n"
     ]
    },
    {
     "name": "stdout",
     "output_type": "stream",
     "text": [
      "Processing Record 32 of Set 8 :agadez\n",
      "Processing Record 33 of Set 8 :tahe\n",
      "City not found. Skipping...\n",
      "Processing Record 34 of Set 8 :tiruttani\n",
      "Processing Record 35 of Set 8 :mirnyy\n",
      "City not found. Skipping...\n",
      "Processing Record 36 of Set 8 :komsomolskiy\n",
      "Processing Record 37 of Set 8 :tezu\n",
      "Processing Record 38 of Set 8 :trincomalee\n",
      "Processing Record 39 of Set 8 :nsanje\n",
      "Processing Record 40 of Set 8 :stephenville\n",
      "Processing Record 41 of Set 8 :gasa\n",
      "Processing Record 42 of Set 8 :khasan\n",
      "Processing Record 43 of Set 8 :san policarpo\n",
      "Processing Record 44 of Set 8 :takab\n",
      "Processing Record 45 of Set 8 :arica\n",
      "Processing Record 46 of Set 8 :nanhai\n",
      "Processing Record 47 of Set 8 :maumere\n",
      "City not found. Skipping...\n",
      "Processing Record 48 of Set 8 :yulara\n",
      "City not found. Skipping...\n",
      "Processing Record 49 of Set 8 :athabasca\n",
      "Processing Record 50 of Set 8 :muromtsevo\n",
      "Processing Record 0 of Set 9 :tocopilla\n",
      "Processing Record 1 of Set 9 :conceicao da barra\n",
      "Processing Record 2 of Set 9 :antalaha\n",
      "Processing Record 3 of Set 9 :lorengau\n",
      "Processing Record 4 of Set 9 :soubre\n",
      "Processing Record 5 of Set 9 :amahai\n",
      "Processing Record 6 of Set 9 :ullapool\n",
      "Processing Record 7 of Set 9 :capinopolis\n",
      "Processing Record 8 of Set 9 :los llanos de aridane\n",
      "Processing Record 9 of Set 9 :basco\n",
      "Processing Record 10 of Set 9 :tilichiki\n",
      "Processing Record 11 of Set 9 :ornskoldsvik\n",
      "Processing Record 12 of Set 9 :chernukha\n",
      "Processing Record 13 of Set 9 :san lorenzo\n",
      "Processing Record 14 of Set 9 :atambua\n",
      "City not found. Skipping...\n",
      "Processing Record 15 of Set 9 :olinda\n",
      "Processing Record 16 of Set 9 :nouadhibou\n",
      "Processing Record 17 of Set 9 :san andres\n",
      "City not found. Skipping...\n",
      "Processing Record 18 of Set 9 :aktash\n",
      "Processing Record 19 of Set 9 :puerto escondido\n",
      "Processing Record 20 of Set 9 :port-gentil\n",
      "Processing Record 21 of Set 9 :chernyy yar\n",
      "City not found. Skipping...\n",
      "Processing Record 22 of Set 9 :callaguip\n",
      "City not found. Skipping...\n",
      "Processing Record 23 of Set 9 :ixtapa\n",
      "Processing Record 24 of Set 9 :grand gaube\n",
      "Processing Record 25 of Set 9 :kahului\n",
      "Processing Record 26 of Set 9 :batu gajah\n",
      "City not found. Skipping...\n",
      "Processing Record 27 of Set 9 :plettenberg bay\n",
      "Processing Record 28 of Set 9 :beloha\n",
      "Processing Record 29 of Set 9 :shieli\n",
      "Processing Record 30 of Set 9 :ahuimanu\n",
      "Processing Record 31 of Set 9 :chanderi\n",
      "Processing Record 32 of Set 9 :tigil\n",
      "Processing Record 33 of Set 9 :oussouye\n",
      "Processing Record 34 of Set 9 :ayr\n",
      "Processing Record 35 of Set 9 :visby\n",
      "Processing Record 36 of Set 9 :karratha\n",
      "Processing Record 37 of Set 9 :tautira\n",
      "Processing Record 38 of Set 9 :bose\n",
      "Processing Record 39 of Set 9 :collie\n",
      "Processing Record 40 of Set 9 :havelock\n",
      "Processing Record 41 of Set 9 :erdenet\n",
      "Processing Record 42 of Set 9 :mandasa\n",
      "Processing Record 43 of Set 9 :mitchell\n",
      "Processing Record 44 of Set 9 :bahia honda\n",
      "Processing Record 45 of Set 9 :colares\n",
      "Processing Record 46 of Set 9 :teya\n",
      "Processing Record 47 of Set 9 :malaya vishera\n",
      "Processing Record 48 of Set 9 :chumikan\n",
      "Processing Record 49 of Set 9 :kupang\n",
      "Processing Record 50 of Set 9 :broken hill\n",
      "Processing Record 0 of Set 10 :norman wells\n",
      "Processing Record 1 of Set 10 :abu samrah\n",
      "Processing Record 2 of Set 10 :torbay\n",
      "Processing Record 3 of Set 10 :bow island\n",
      "Processing Record 4 of Set 10 :iwaki\n",
      "Processing Record 5 of Set 10 :sarkand\n",
      "Processing Record 6 of Set 10 :tongliao\n",
      "Processing Record 7 of Set 10 :astana\n",
      "Processing Record 8 of Set 10 :pitimbu\n",
      "Processing Record 9 of Set 10 :carnarvon\n",
      "Processing Record 10 of Set 10 :rockhampton\n",
      "City not found. Skipping...\n",
      "City not found. Skipping...\n",
      "Processing Record 11 of Set 10 :oromocto\n",
      "Processing Record 12 of Set 10 :andros town\n",
      "City not found. Skipping...\n",
      "Processing Record 13 of Set 10 :kibala\n",
      "Processing Record 14 of Set 10 :coari\n",
      "Processing Record 15 of Set 10 :krasnoselkup\n",
      "Processing Record 16 of Set 10 :margate\n",
      "Processing Record 17 of Set 10 :novomalorossiyskaya\n",
      "Processing Record 18 of Set 10 :richards bay\n",
      "Processing Record 19 of Set 10 :niles\n",
      "Processing Record 20 of Set 10 :leninsk\n",
      "Processing Record 21 of Set 10 :nome\n",
      "Processing Record 22 of Set 10 :abha\n",
      "Processing Record 23 of Set 10 :bull savanna\n",
      "Processing Record 24 of Set 10 :midland\n",
      "Processing Record 25 of Set 10 :aleppo\n",
      "Processing Record 26 of Set 10 :uyuni\n",
      "Processing Record 27 of Set 10 :walla walla\n",
      "Processing Record 28 of Set 10 :piacabucu\n",
      "Processing Record 29 of Set 10 :flinders\n",
      "Processing Record 30 of Set 10 :xining\n",
      "Processing Record 31 of Set 10 :bauru\n",
      "Processing Record 32 of Set 10 :fleetwood\n",
      "Processing Record 33 of Set 10 :yerbogachen\n",
      "Processing Record 34 of Set 10 :talaya\n",
      "Processing Record 35 of Set 10 :batagay-alyta\n",
      "Processing Record 36 of Set 10 :ambon\n",
      "Processing Record 37 of Set 10 :nelson bay\n",
      "Processing Record 38 of Set 10 :mbandaka\n",
      "Processing Record 39 of Set 10 :provo\n",
      "Processing Record 40 of Set 10 :porto walter\n",
      "Processing Record 41 of Set 10 :adrar\n",
      "Processing Record 42 of Set 10 :hofn\n",
      "Processing Record 43 of Set 10 :havre-saint-pierre\n",
      "Processing Record 44 of Set 10 :bowen\n",
      "Processing Record 45 of Set 10 :dauphin\n",
      "Processing Record 46 of Set 10 :esso\n",
      "Processing Record 47 of Set 10 :sibolga\n",
      "Processing Record 48 of Set 10 :carballo\n",
      "Processing Record 49 of Set 10 :hirara\n",
      "Processing Record 50 of Set 10 :sungurlare\n",
      "Processing Record 0 of Set 11 :port augusta\n",
      "City not found. Skipping...\n",
      "Processing Record 1 of Set 11 :kanker\n",
      "City not found. Skipping...\n",
      "Processing Record 2 of Set 11 :machali\n",
      "Processing Record 3 of Set 11 :santiago\n",
      "Processing Record 4 of Set 11 :maniitsoq\n",
      "Processing Record 5 of Set 11 :port moresby\n",
      "Processing Record 6 of Set 11 :cheremisinovo\n",
      "Processing Record 7 of Set 11 :kavali\n",
      "Processing Record 8 of Set 11 :gunjur\n",
      "Processing Record 9 of Set 11 :reconquista\n",
      "Processing Record 10 of Set 11 :ewa beach\n",
      "City not found. Skipping...\n",
      "Processing Record 11 of Set 11 :sandwick\n",
      "Processing Record 12 of Set 11 :paita\n",
      "Processing Record 13 of Set 11 :deputatskiy\n",
      "Processing Record 14 of Set 11 :caravelas\n",
      "Processing Record 15 of Set 11 :trenggalek\n",
      "City not found. Skipping...\n",
      "Processing Record 16 of Set 11 :na wa\n",
      "Processing Record 17 of Set 11 :malia\n",
      "Processing Record 18 of Set 11 :mae sai\n",
      "Processing Record 19 of Set 11 :mugango\n",
      "Processing Record 20 of Set 11 :cockburn town\n",
      "Processing Record 21 of Set 11 :wenatchee\n",
      "Processing Record 22 of Set 11 :inhambane\n",
      "Processing Record 23 of Set 11 :ozark\n",
      "Processing Record 24 of Set 11 :moyo\n",
      "Processing Record 25 of Set 11 :polovinnoye\n",
      "Processing Record 26 of Set 11 :morgan city\n",
      "Processing Record 27 of Set 11 :ercis\n",
      "Processing Record 28 of Set 11 :kilindoni\n",
      "Processing Record 29 of Set 11 :edgewater\n",
      "Processing Record 30 of Set 11 :sao felix do xingu\n",
      "City not found. Skipping...\n",
      "Processing Record 31 of Set 11 :petatlan\n",
      "Processing Record 32 of Set 11 :lukovetskiy\n",
      "City not found. Skipping...\n",
      "Processing Record 33 of Set 11 :zhaodong\n",
      "Processing Record 34 of Set 11 :zwedru\n",
      "Processing Record 35 of Set 11 :champasak\n",
      "Processing Record 36 of Set 11 :alice springs\n",
      "Processing Record 37 of Set 11 :valday\n",
      "Processing Record 38 of Set 11 :mitsamiouli\n",
      "Processing Record 39 of Set 11 :puerto colombia\n",
      "Processing Record 40 of Set 11 :bubaque\n",
      "Processing Record 41 of Set 11 :japura\n",
      "--------------------------------------\n",
      "Data Retrieval Complete\n",
      "--------------------------------------\n"
     ]
    }
   ],
   "source": [
    "#set up lists to hold response info\n",
    "lat =[]\n",
    "lng = []\n",
    "maxTemp= []\n",
    "humidity = []\n",
    "cloudiness = []\n",
    "windSpeed = []\n",
    "country = []\n",
    "date = []\n",
    "names = []\n",
    "\n",
    "#variable creation for print log\n",
    "index_counter =0\n",
    "set_counter = 1\n",
    "\n",
    "print(\"Beginning Data Retrieval\")\n",
    "print(\"-----------------------------\")\n",
    "\n",
    "url = \"http://api.openweathermap.org/data/2.5/weather?\"\n",
    "\n",
    "query_url= url + \"appid=\" + weather_api_key + \"&q=\"\n",
    "    \n",
    "for city in cities:\n",
    "    try: \n",
    "        weather_response = requests.get(query_url + city).json()\n",
    "        lat.append(weather_response ['coord']['lat'])\n",
    "        lng.append(weather_response ['coord']['lon'])\n",
    "        maxTemp.append(weather_response ['main']['temp_max'])\n",
    "        humidity.append(weather_response ['main']['humidity'])\n",
    "        cloudiness.append(weather_response ['clouds']['all'])\n",
    "        windSpeed.append(weather_response ['wind']['speed'])\n",
    "        country.append(weather_response ['sys']['country'])\n",
    "        date.append(weather_response ['dt'])\n",
    "        names.append(weather_response ['name'])\n",
    "        \n",
    "        if index_counter > 49:\n",
    "            index_counter = 0\n",
    "            set_counter = set_counter +1\n",
    "        else:\n",
    "            index_counter = index_counter +1\n",
    "\n",
    "        print(f\"Processing Record {index_counter} of Set {set_counter} :{city}\")\n",
    "\n",
    "    except (KeyError, IndexError):\n",
    "        print(\"City not found. Skipping...\")\n",
    "print(\"--------------------------------------\")\n",
    "print(\"Data Retrieval Complete\")\n",
    "print(\"--------------------------------------\")\n"
   ]
  },
  {
   "cell_type": "markdown",
   "metadata": {},
   "source": [
    "### Convert Raw Data to DataFrame\n",
    "* Export the city data into a .csv.\n",
    "* Display the DataFrame"
   ]
  },
  {
   "cell_type": "code",
   "execution_count": 4,
   "metadata": {},
   "outputs": [
    {
     "data": {
      "text/html": [
       "<div>\n",
       "<style scoped>\n",
       "    .dataframe tbody tr th:only-of-type {\n",
       "        vertical-align: middle;\n",
       "    }\n",
       "\n",
       "    .dataframe tbody tr th {\n",
       "        vertical-align: top;\n",
       "    }\n",
       "\n",
       "    .dataframe thead th {\n",
       "        text-align: right;\n",
       "    }\n",
       "</style>\n",
       "<table border=\"1\" class=\"dataframe\">\n",
       "  <thead>\n",
       "    <tr style=\"text-align: right;\">\n",
       "      <th></th>\n",
       "      <th>City</th>\n",
       "      <th>Lat</th>\n",
       "      <th>Long</th>\n",
       "      <th>Max Temp</th>\n",
       "      <th>Humidity</th>\n",
       "      <th>Cloudiness</th>\n",
       "      <th>Wind Speed</th>\n",
       "      <th>Country</th>\n",
       "      <th>Date</th>\n",
       "    </tr>\n",
       "  </thead>\n",
       "  <tbody>\n",
       "    <tr>\n",
       "      <th>0</th>\n",
       "      <td>São João da Barra</td>\n",
       "      <td>-21.6403</td>\n",
       "      <td>-41.0511</td>\n",
       "      <td>295.14</td>\n",
       "      <td>94</td>\n",
       "      <td>72</td>\n",
       "      <td>4.93</td>\n",
       "      <td>BR</td>\n",
       "      <td>1637212685</td>\n",
       "    </tr>\n",
       "    <tr>\n",
       "      <th>1</th>\n",
       "      <td>Kenai</td>\n",
       "      <td>60.5544</td>\n",
       "      <td>-151.2583</td>\n",
       "      <td>261.56</td>\n",
       "      <td>77</td>\n",
       "      <td>1</td>\n",
       "      <td>0.00</td>\n",
       "      <td>US</td>\n",
       "      <td>1637212685</td>\n",
       "    </tr>\n",
       "    <tr>\n",
       "      <th>2</th>\n",
       "      <td>Enugu</td>\n",
       "      <td>6.4402</td>\n",
       "      <td>7.4943</td>\n",
       "      <td>295.93</td>\n",
       "      <td>94</td>\n",
       "      <td>5</td>\n",
       "      <td>0.97</td>\n",
       "      <td>NG</td>\n",
       "      <td>1637212686</td>\n",
       "    </tr>\n",
       "    <tr>\n",
       "      <th>3</th>\n",
       "      <td>Kavieng</td>\n",
       "      <td>-2.5744</td>\n",
       "      <td>150.7967</td>\n",
       "      <td>302.19</td>\n",
       "      <td>69</td>\n",
       "      <td>9</td>\n",
       "      <td>4.13</td>\n",
       "      <td>PG</td>\n",
       "      <td>1637212686</td>\n",
       "    </tr>\n",
       "    <tr>\n",
       "      <th>4</th>\n",
       "      <td>Port Hedland</td>\n",
       "      <td>-20.3167</td>\n",
       "      <td>118.5667</td>\n",
       "      <td>306.18</td>\n",
       "      <td>49</td>\n",
       "      <td>14</td>\n",
       "      <td>9.26</td>\n",
       "      <td>AU</td>\n",
       "      <td>1637212686</td>\n",
       "    </tr>\n",
       "  </tbody>\n",
       "</table>\n",
       "</div>"
      ],
      "text/plain": [
       "                City      Lat      Long  Max Temp  Humidity  Cloudiness  \\\n",
       "0  São João da Barra -21.6403  -41.0511    295.14        94          72   \n",
       "1              Kenai  60.5544 -151.2583    261.56        77           1   \n",
       "2              Enugu   6.4402    7.4943    295.93        94           5   \n",
       "3            Kavieng  -2.5744  150.7967    302.19        69           9   \n",
       "4       Port Hedland -20.3167  118.5667    306.18        49          14   \n",
       "\n",
       "   Wind Speed Country        Date  \n",
       "0        4.93      BR  1637212685  \n",
       "1        0.00      US  1637212685  \n",
       "2        0.97      NG  1637212686  \n",
       "3        4.13      PG  1637212686  \n",
       "4        9.26      AU  1637212686  "
      ]
     },
     "execution_count": 4,
     "metadata": {},
     "output_type": "execute_result"
    }
   ],
   "source": [
    "#conversion of raw data to dictionary to DataFrame\n",
    "weather_dict={\n",
    "    \"City\": names,\n",
    "    \"Lat\": lat,\n",
    "    \"Long\": lng,\n",
    "    \"Max Temp\" : maxTemp,\n",
    "    \"Humidity\" : humidity,\n",
    "    \"Cloudiness\" : cloudiness,\n",
    "    \"Wind Speed\" : windSpeed,\n",
    "    \"Country\" : country,\n",
    "    \"Date\" : date\n",
    "}\n",
    "\n",
    "weather_data = pd.DataFrame.from_dict(weather_dict)\n",
    "#weather_data = pd.DataFrame.from_dict(weather_dict, orient =index)\n",
    "#weather_data = weather_data.transpose()\n",
    "\n",
    "#dropping rows with a least one null value\n",
    "#weather_data.dropna(axis=0, how='any')\n",
    "\n",
    "#export the city data into a csv\n",
    "weather_data.to_csv(\"cities.csv\", index=False)\n",
    "\n",
    "#Display the DataFrame\n",
    "weather_data.head()"
   ]
  },
  {
   "cell_type": "code",
   "execution_count": 5,
   "metadata": {},
   "outputs": [
    {
     "data": {
      "text/html": [
       "<div>\n",
       "<style scoped>\n",
       "    .dataframe tbody tr th:only-of-type {\n",
       "        vertical-align: middle;\n",
       "    }\n",
       "\n",
       "    .dataframe tbody tr th {\n",
       "        vertical-align: top;\n",
       "    }\n",
       "\n",
       "    .dataframe thead th {\n",
       "        text-align: right;\n",
       "    }\n",
       "</style>\n",
       "<table border=\"1\" class=\"dataframe\">\n",
       "  <thead>\n",
       "    <tr style=\"text-align: right;\">\n",
       "      <th></th>\n",
       "      <th>Lat</th>\n",
       "      <th>Long</th>\n",
       "      <th>Max Temp</th>\n",
       "      <th>Humidity</th>\n",
       "      <th>Cloudiness</th>\n",
       "      <th>Wind Speed</th>\n",
       "      <th>Date</th>\n",
       "    </tr>\n",
       "  </thead>\n",
       "  <tbody>\n",
       "    <tr>\n",
       "      <th>count</th>\n",
       "      <td>551.00000</td>\n",
       "      <td>551.000000</td>\n",
       "      <td>551.000000</td>\n",
       "      <td>551.000000</td>\n",
       "      <td>551.000000</td>\n",
       "      <td>551.000000</td>\n",
       "      <td>5.510000e+02</td>\n",
       "    </tr>\n",
       "    <tr>\n",
       "      <th>mean</th>\n",
       "      <td>20.08338</td>\n",
       "      <td>19.401011</td>\n",
       "      <td>286.122359</td>\n",
       "      <td>72.745917</td>\n",
       "      <td>58.402904</td>\n",
       "      <td>3.571942</td>\n",
       "      <td>1.637213e+09</td>\n",
       "    </tr>\n",
       "    <tr>\n",
       "      <th>std</th>\n",
       "      <td>33.02762</td>\n",
       "      <td>91.744142</td>\n",
       "      <td>14.988828</td>\n",
       "      <td>20.196689</td>\n",
       "      <td>37.935844</td>\n",
       "      <td>2.638833</td>\n",
       "      <td>8.791360e+01</td>\n",
       "    </tr>\n",
       "    <tr>\n",
       "      <th>min</th>\n",
       "      <td>-54.80000</td>\n",
       "      <td>-175.200000</td>\n",
       "      <td>238.330000</td>\n",
       "      <td>9.000000</td>\n",
       "      <td>0.000000</td>\n",
       "      <td>0.000000</td>\n",
       "      <td>1.637212e+09</td>\n",
       "    </tr>\n",
       "    <tr>\n",
       "      <th>25%</th>\n",
       "      <td>-8.61675</td>\n",
       "      <td>-64.048200</td>\n",
       "      <td>275.535000</td>\n",
       "      <td>61.000000</td>\n",
       "      <td>20.000000</td>\n",
       "      <td>1.540000</td>\n",
       "      <td>1.637213e+09</td>\n",
       "    </tr>\n",
       "    <tr>\n",
       "      <th>50%</th>\n",
       "      <td>22.07520</td>\n",
       "      <td>26.438400</td>\n",
       "      <td>289.860000</td>\n",
       "      <td>77.000000</td>\n",
       "      <td>71.000000</td>\n",
       "      <td>2.960000</td>\n",
       "      <td>1.637213e+09</td>\n",
       "    </tr>\n",
       "    <tr>\n",
       "      <th>75%</th>\n",
       "      <td>48.38715</td>\n",
       "      <td>102.272600</td>\n",
       "      <td>298.260000</td>\n",
       "      <td>88.000000</td>\n",
       "      <td>97.000000</td>\n",
       "      <td>4.800000</td>\n",
       "      <td>1.637213e+09</td>\n",
       "    </tr>\n",
       "    <tr>\n",
       "      <th>max</th>\n",
       "      <td>78.21860</td>\n",
       "      <td>178.416700</td>\n",
       "      <td>312.140000</td>\n",
       "      <td>100.000000</td>\n",
       "      <td>100.000000</td>\n",
       "      <td>12.980000</td>\n",
       "      <td>1.637213e+09</td>\n",
       "    </tr>\n",
       "  </tbody>\n",
       "</table>\n",
       "</div>"
      ],
      "text/plain": [
       "             Lat        Long    Max Temp    Humidity  Cloudiness  Wind Speed  \\\n",
       "count  551.00000  551.000000  551.000000  551.000000  551.000000  551.000000   \n",
       "mean    20.08338   19.401011  286.122359   72.745917   58.402904    3.571942   \n",
       "std     33.02762   91.744142   14.988828   20.196689   37.935844    2.638833   \n",
       "min    -54.80000 -175.200000  238.330000    9.000000    0.000000    0.000000   \n",
       "25%     -8.61675  -64.048200  275.535000   61.000000   20.000000    1.540000   \n",
       "50%     22.07520   26.438400  289.860000   77.000000   71.000000    2.960000   \n",
       "75%     48.38715  102.272600  298.260000   88.000000   97.000000    4.800000   \n",
       "max     78.21860  178.416700  312.140000  100.000000  100.000000   12.980000   \n",
       "\n",
       "               Date  \n",
       "count  5.510000e+02  \n",
       "mean   1.637213e+09  \n",
       "std    8.791360e+01  \n",
       "min    1.637212e+09  \n",
       "25%    1.637213e+09  \n",
       "50%    1.637213e+09  \n",
       "75%    1.637213e+09  \n",
       "max    1.637213e+09  "
      ]
     },
     "execution_count": 5,
     "metadata": {},
     "output_type": "execute_result"
    }
   ],
   "source": [
    "weather_data.describe()"
   ]
  },
  {
   "cell_type": "markdown",
   "metadata": {},
   "source": [
    "## Inspect the data and remove the cities where the humidity > 100%.\n",
    "----\n",
    "Skip this step if there are no cities that have humidity > 100%. "
   ]
  },
  {
   "cell_type": "code",
   "execution_count": 6,
   "metadata": {},
   "outputs": [
    {
     "data": {
      "text/plain": [
       "Int64Index([], dtype='int64')"
      ]
     },
     "execution_count": 6,
     "metadata": {},
     "output_type": "execute_result"
    }
   ],
   "source": [
    "#  Get the indices of cities that have humidity over 100%.\n",
    "high_humid=weather_data[(weather_data[\"Humidity\"]>100)].index\n",
    "high_humid"
   ]
  },
  {
   "cell_type": "code",
   "execution_count": 7,
   "metadata": {},
   "outputs": [
    {
     "data": {
      "text/html": [
       "<div>\n",
       "<style scoped>\n",
       "    .dataframe tbody tr th:only-of-type {\n",
       "        vertical-align: middle;\n",
       "    }\n",
       "\n",
       "    .dataframe tbody tr th {\n",
       "        vertical-align: top;\n",
       "    }\n",
       "\n",
       "    .dataframe thead th {\n",
       "        text-align: right;\n",
       "    }\n",
       "</style>\n",
       "<table border=\"1\" class=\"dataframe\">\n",
       "  <thead>\n",
       "    <tr style=\"text-align: right;\">\n",
       "      <th></th>\n",
       "      <th>City</th>\n",
       "      <th>Lat</th>\n",
       "      <th>Long</th>\n",
       "      <th>Max Temp</th>\n",
       "      <th>Humidity</th>\n",
       "      <th>Cloudiness</th>\n",
       "      <th>Wind Speed</th>\n",
       "      <th>Country</th>\n",
       "      <th>Date</th>\n",
       "    </tr>\n",
       "  </thead>\n",
       "  <tbody>\n",
       "    <tr>\n",
       "      <th>0</th>\n",
       "      <td>São João da Barra</td>\n",
       "      <td>-21.6403</td>\n",
       "      <td>-41.0511</td>\n",
       "      <td>295.14</td>\n",
       "      <td>94</td>\n",
       "      <td>72</td>\n",
       "      <td>4.93</td>\n",
       "      <td>BR</td>\n",
       "      <td>1637212685</td>\n",
       "    </tr>\n",
       "    <tr>\n",
       "      <th>1</th>\n",
       "      <td>Kenai</td>\n",
       "      <td>60.5544</td>\n",
       "      <td>-151.2583</td>\n",
       "      <td>261.56</td>\n",
       "      <td>77</td>\n",
       "      <td>1</td>\n",
       "      <td>0.00</td>\n",
       "      <td>US</td>\n",
       "      <td>1637212685</td>\n",
       "    </tr>\n",
       "    <tr>\n",
       "      <th>2</th>\n",
       "      <td>Enugu</td>\n",
       "      <td>6.4402</td>\n",
       "      <td>7.4943</td>\n",
       "      <td>295.93</td>\n",
       "      <td>94</td>\n",
       "      <td>5</td>\n",
       "      <td>0.97</td>\n",
       "      <td>NG</td>\n",
       "      <td>1637212686</td>\n",
       "    </tr>\n",
       "    <tr>\n",
       "      <th>3</th>\n",
       "      <td>Kavieng</td>\n",
       "      <td>-2.5744</td>\n",
       "      <td>150.7967</td>\n",
       "      <td>302.19</td>\n",
       "      <td>69</td>\n",
       "      <td>9</td>\n",
       "      <td>4.13</td>\n",
       "      <td>PG</td>\n",
       "      <td>1637212686</td>\n",
       "    </tr>\n",
       "    <tr>\n",
       "      <th>4</th>\n",
       "      <td>Port Hedland</td>\n",
       "      <td>-20.3167</td>\n",
       "      <td>118.5667</td>\n",
       "      <td>306.18</td>\n",
       "      <td>49</td>\n",
       "      <td>14</td>\n",
       "      <td>9.26</td>\n",
       "      <td>AU</td>\n",
       "      <td>1637212686</td>\n",
       "    </tr>\n",
       "  </tbody>\n",
       "</table>\n",
       "</div>"
      ],
      "text/plain": [
       "                City      Lat      Long  Max Temp  Humidity  Cloudiness  \\\n",
       "0  São João da Barra -21.6403  -41.0511    295.14        94          72   \n",
       "1              Kenai  60.5544 -151.2583    261.56        77           1   \n",
       "2              Enugu   6.4402    7.4943    295.93        94           5   \n",
       "3            Kavieng  -2.5744  150.7967    302.19        69           9   \n",
       "4       Port Hedland -20.3167  118.5667    306.18        49          14   \n",
       "\n",
       "   Wind Speed Country        Date  \n",
       "0        4.93      BR  1637212685  \n",
       "1        0.00      US  1637212685  \n",
       "2        0.97      NG  1637212686  \n",
       "3        4.13      PG  1637212686  \n",
       "4        9.26      AU  1637212686  "
      ]
     },
     "execution_count": 7,
     "metadata": {},
     "output_type": "execute_result"
    }
   ],
   "source": [
    "# Make a new DataFrame equal to the city data to drop all humidity outliers by index.\n",
    "# Passing \"inplace=False\" will make a copy of the city_data DataFrame, which we call \"clean_city_data\".\n",
    "weather_data_clean= weather_data.drop(high_humid, inplace=False)\n",
    "weather_data_clean.head()"
   ]
  },
  {
   "cell_type": "code",
   "execution_count": 8,
   "metadata": {},
   "outputs": [],
   "source": [
    "#export the cleaned city data into a csv\n",
    "weather_data_clean.to_csv(\"cities_cleaned.csv\", index=False)\n"
   ]
  },
  {
   "cell_type": "markdown",
   "metadata": {},
   "source": [
    "## Plotting the Data\n",
    "* Use proper labeling of the plots using plot titles (including date of analysis) and axes labels.\n",
    "* Save the plotted figures as .pngs."
   ]
  },
  {
   "cell_type": "markdown",
   "metadata": {},
   "source": [
    "## Latitude vs. Temperature Plot"
   ]
  },
  {
   "cell_type": "code",
   "execution_count": 9,
   "metadata": {
    "scrolled": true
   },
   "outputs": [
    {
     "data": {
      "image/png": "[encoded data removed]",
      "text/plain": [
       "<Figure size 432x288 with 1 Axes>"
      ]
     },
     "metadata": {
      "needs_background": "light"
     },
     "output_type": "display_data"
    }
   ],
   "source": [
    "x_axis = weather_data_clean[\"Lat\"]\n",
    "temp = weather_data_clean[\"Max Temp\"]\n",
    "plt.title(\"Temperature vs. Latitude\")\n",
    "plt.xlabel(\"Latitude\")\n",
    "plt.ylabel(\"Maximum Temperature\")\n",
    "\n",
    "plt.scatter(x_axis, temp, marker=\"o\", color=\"red\")\n",
    "\n",
    "#Save PNG \n",
    "plt.savefig(\"LatTemp.png\")\n",
    "\n",
    "plt.show()"
   ]
  },
  {
   "cell_type": "markdown",
   "metadata": {},
   "source": [
    "## Latitude vs. Humidity Plot"
   ]
  },
  {
   "cell_type": "code",
   "execution_count": 16,
   "metadata": {},
   "outputs": [
    {
     "data": {
      "image/png": "[encoded data removed]",
      "text/plain": [
       "<Figure size 432x288 with 1 Axes>"
      ]
     },
     "metadata": {
      "needs_background": "light"
     },
     "output_type": "display_data"
    }
   ],
   "source": [
    "x_axis = weather_data_clean[\"Lat\"]\n",
    "humid_y= weather_data_clean[\"Humidity\"]\n",
    "plt.title(\"Latitude vs. Humidity\")\n",
    "plt.xlabel(\"Latitude\")\n",
    "plt.ylabel(\"Humidity\")\n",
    "\n",
    "plt.scatter(x_axis, humid_y, marker=\"o\", color=\"blue\")\n",
    "\n",
    "#Save PNG \n",
    "plt.savefig(\"LatHumid.png\")\n",
    "plt.show()"
   ]
  },
  {
   "cell_type": "markdown",
   "metadata": {},
   "source": [
    "## Latitude vs. Cloudiness Plot"
   ]
  },
  {
   "cell_type": "code",
   "execution_count": 17,
   "metadata": {},
   "outputs": [
    {
     "data": {
      "image/png": "[encoded data removed]",
      "text/plain": [
       "<Figure size 432x288 with 1 Axes>"
      ]
     },
     "metadata": {
      "needs_background": "light"
     },
     "output_type": "display_data"
    }
   ],
   "source": [
    "x_axis = weather_data_clean[\"Lat\"]\n",
    "cld = weather_data_clean[\"Cloudiness\"]\n",
    "plt.title(\"Latitude vs. Cloudiness\")\n",
    "plt.xlabel(\"Latitude\")\n",
    "plt.ylabel(\"Cloudiness\")\n",
    "\n",
    "plt.scatter(x_axis, cld, marker=\"o\", color=\"cyan\")\n",
    "\n",
    "#Save PNG \n",
    "plt.savefig(\"LatCloud.png\")\n",
    "plt.show()"
   ]
  },
  {
   "cell_type": "markdown",
   "metadata": {},
   "source": [
    "## Latitude vs. Wind Speed Plot"
   ]
  },
  {
   "cell_type": "code",
   "execution_count": 18,
   "metadata": {},
   "outputs": [
    {
     "data": {
      "image/png": "[encoded data removed]",
      "text/plain": [
       "<Figure size 432x288 with 1 Axes>"
      ]
     },
     "metadata": {
      "needs_background": "light"
     },
     "output_type": "display_data"
    }
   ],
   "source": [
    "x_axis = weather_data_clean[\"Lat\"]\n",
    "Windsp = weather_data_clean[\"Wind Speed\"]\n",
    "plt.title(\"Latitude vs. Wind Speed\")\n",
    "plt.xlabel(\"Latitude\")\n",
    "plt.ylabel(\"Wind Speed\")\n",
    "\n",
    "plt.scatter(x_axis, Windsp, marker=\"o\", color=\"orange\")\n",
    "\n",
    "#Save PNG \n",
    "plt.savefig(\"LatWind.png\")\n",
    "plt.show()"
   ]
  },
  {
   "cell_type": "markdown",
   "metadata": {},
   "source": [
    "## Linear Regression"
   ]
  },
  {
   "cell_type": "code",
   "execution_count": 13,
   "metadata": {},
   "outputs": [],
   "source": [
    "from sklearn.model_selection import train_test_split\n",
    "from sklearn.linear_model import LinearRegression\n",
    "from sklearn.metrics import r2_score"
   ]
  },
  {
   "cell_type": "code",
   "execution_count": 14,
   "metadata": {},
   "outputs": [],
   "source": [
    "northemi = weather_data_clean.loc[weather_data_clean['Lat']>=0]\n",
    "southemi = weather_data_clean.loc[weather_data_clean['Lat']<0]"
   ]
  },
  {
   "cell_type": "markdown",
   "metadata": {},
   "source": [
    "####  Northern Hemisphere - Max Temp vs. Latitude Linear Regression"
   ]
  },
  {
   "cell_type": "code",
   "execution_count": 24,
   "metadata": {},
   "outputs": [
    {
     "name": "stdout",
     "output_type": "stream",
     "text": [
      "The r-squared is: 0.7902610588570859\n"
     ]
    },
    {
     "data": {
      "image/png": "[encoded data removed]",
      "text/plain": [
       "<Figure size 432x288 with 1 Axes>"
      ]
     },
     "metadata": {
      "needs_background": "light"
     },
     "output_type": "display_data"
    }
   ],
   "source": [
    "\n",
    "# Print out the r-squared value along with the plot.\n",
    "north_x= northemi['Lat']\n",
    "north_temp = northemi['Max Temp']\n",
    "(slope, intercept, rvalue, pvalue, stderr) = linregress(north_x, north_temp)\n",
    "regress_values = north_x * slope + intercept\n",
    "line_eq = \"y = \" + str(round(slope,2)) + \"x + \" + str(round(intercept,2))\n",
    "plt.scatter(north_x, north_temp)\n",
    "plt.plot(north_x,regress_values,\"r-\")\n",
    "plt.annotate(line_eq,(6,10),color=\"red\")\n",
    "plt.xlabel('Latitude')\n",
    "plt.ylabel('Maximum Temperature')\n",
    "print(f\"The r-squared is: {rvalue**2}\")\n",
    "\n",
    "#Save PNG\n",
    "plt.savefig(\"N Hemisphere Temp vs Latitude Regression.png\")\n",
    "\n",
    "plt.show()\n"
   ]
  },
  {
   "cell_type": "markdown",
   "metadata": {},
   "source": [
    "####  Southern Hemisphere - Max Temp vs. Latitude Linear Regression"
   ]
  },
  {
   "cell_type": "code",
   "execution_count": 35,
   "metadata": {},
   "outputs": [
    {
     "name": "stdout",
     "output_type": "stream",
     "text": [
      "The r-squared is: 0.2852722759758009\n"
     ]
    },
    {
     "data": {
      "image/png": "[encoded data removed]",
      "text/plain": [
       "<Figure size 432x288 with 1 Axes>"
      ]
     },
     "metadata": {
      "needs_background": "light"
     },
     "output_type": "display_data"
    }
   ],
   "source": [
    "south_x= southemi['Lat']\n",
    "south_temp = southemi['Max Temp']\n",
    "(slope, intercept, rvalue, pvalue, stderr) = linregress(south_x, south_temp)\n",
    "regress_values = south_x * slope + intercept\n",
    "line_eq = \"y = \" + str(round(slope,2)) + \"x + \" + str(round(intercept,2))\n",
    "plt.scatter(south_x, south_temp)\n",
    "plt.plot(south_x,regress_values,\"r-\")\n",
    "plt.annotate(line_eq,(6,10),fontsize=15,color=\"red\")\n",
    "plt.xlabel('Latitude')\n",
    "plt.ylabel('Maximum Temperature')\n",
    "print(f\"The r-squared is: {rvalue**2}\")\n",
    "\n",
    "#Save PNG\n",
    "plt.savefig(\"S Hemisphere Temp vs Latitude Regression.png\")\n",
    "\n",
    "plt.show()\n"
   ]
  },
  {
   "cell_type": "markdown",
   "metadata": {},
   "source": [
    "####  Northern Hemisphere - Humidity (%) vs. Latitude Linear Regression"
   ]
  },
  {
   "cell_type": "code",
   "execution_count": 29,
   "metadata": {},
   "outputs": [
    {
     "name": "stdout",
     "output_type": "stream",
     "text": [
      "The r-squared is: 0.09812377540349608\n"
     ]
    },
    {
     "data": {
      "image/png": "[encoded data removed]",
      "text/plain": [
       "<Figure size 432x288 with 1 Axes>"
      ]
     },
     "metadata": {
      "needs_background": "light"
     },
     "output_type": "display_data"
    }
   ],
   "source": [
    "north_x= northemi['Lat']\n",
    "north_hum = northemi['Humidity']\n",
    "(slope, intercept, rvalue, pvalue, stderr) = linregress(north_x, north_hum)\n",
    "regress_values = north_x * slope + intercept\n",
    "line_eq = \"y = \" + str(round(slope,2)) + \"x + \" + str(round(intercept,2))\n",
    "plt.scatter(north_x, north_hum)\n",
    "plt.plot(north_x,regress_values,\"r-\")\n",
    "plt.annotate(line_eq,(6,10),color=\"red\")\n",
    "plt.xlabel('Latitude')\n",
    "plt.ylabel('Humidity')\n",
    "print(f\"The r-squared is: {rvalue**2}\")\n",
    "\n",
    "#Save PNG\n",
    "plt.savefig(\"N Hemisphere Humidity vs Latitude Regression.png\")\n",
    "\n",
    "plt.show()\n"
   ]
  },
  {
   "cell_type": "markdown",
   "metadata": {},
   "source": [
    "####  Southern Hemisphere - Humidity (%) vs. Latitude Linear Regression"
   ]
  },
  {
   "cell_type": "code",
   "execution_count": 34,
   "metadata": {},
   "outputs": [
    {
     "name": "stdout",
     "output_type": "stream",
     "text": [
      "The r-squared is: 0.04493379255864705\n"
     ]
    },
    {
     "data": {
      "image/png": "[encoded data removed]",
      "text/plain": [
       "<Figure size 432x288 with 1 Axes>"
      ]
     },
     "metadata": {
      "needs_background": "light"
     },
     "output_type": "display_data"
    }
   ],
   "source": [
    "south_x= southemi['Lat']\n",
    "south_humid = southemi['Humidity']\n",
    "(slope, intercept, rvalue, pvalue, stderr) = linregress(south_x, south_humid)\n",
    "regress_values = south_x * slope + intercept\n",
    "line_eq = \"y = \" + str(round(slope,2)) + \"x + \" + str(round(intercept,2))\n",
    "plt.scatter(south_x, south_humid)\n",
    "plt.plot(south_x,regress_values,\"r-\")\n",
    "plt.annotate(line_eq,(6,10),fontsize=15,color=\"red\")\n",
    "plt.xlabel('Latitude')\n",
    "plt.ylabel('Humidity')\n",
    "print(f\"The r-squared is: {rvalue**2}\")\n",
    "\n",
    "#Save PNG\n",
    "plt.savefig(\"S Hemisphere Humudity vs Latitude Regression.png\")\n",
    "\n",
    "plt.show()"
   ]
  },
  {
   "cell_type": "markdown",
   "metadata": {},
   "source": [
    "####  Northern Hemisphere - Cloudiness (%) vs. Latitude Linear Regression"
   ]
  },
  {
   "cell_type": "code",
   "execution_count": 32,
   "metadata": {},
   "outputs": [
    {
     "name": "stdout",
     "output_type": "stream",
     "text": [
      "The r-squared is: 0.040953650112605704\n"
     ]
    },
    {
     "data": {
      "image/png": "[encoded data removed]",
      "text/plain": [
       "<Figure size 432x288 with 1 Axes>"
      ]
     },
     "metadata": {
      "needs_background": "light"
     },
     "output_type": "display_data"
    }
   ],
   "source": [
    "north_x= northemi['Lat']\n",
    "north_cld = northemi['Cloudiness']\n",
    "(slope, intercept, rvalue, pvalue, stderr) = linregress(north_x, north_cld)\n",
    "regress_values = north_x * slope + intercept\n",
    "line_eq = \"y = \" + str(round(slope,2)) + \"x + \" + str(round(intercept,2))\n",
    "plt.scatter(north_x, north_cld)\n",
    "plt.plot(north_x,regress_values,\"r-\")\n",
    "plt.annotate(line_eq,(6,10),color=\"red\")\n",
    "plt.xlabel('Latitude')\n",
    "plt.ylabel('Cloudiness')\n",
    "print(f\"The r-squared is: {rvalue**2}\")\n",
    "\n",
    "#Save PNG\n",
    "plt.savefig(\"N Hemisphere Cloudiness vs Latitude Regression.png\")\n",
    "\n",
    "plt.show()\n"
   ]
  },
  {
   "cell_type": "markdown",
   "metadata": {},
   "source": [
    "####  Southern Hemisphere - Cloudiness (%) vs. Latitude Linear Regression"
   ]
  },
  {
   "cell_type": "code",
   "execution_count": 36,
   "metadata": {},
   "outputs": [
    {
     "name": "stdout",
     "output_type": "stream",
     "text": [
      "The r-squared is: 0.03457694907994385\n"
     ]
    },
    {
     "data": {
      "image/png": "[encoded data removed]",
      "text/plain": [
       "<Figure size 432x288 with 1 Axes>"
      ]
     },
     "metadata": {
      "needs_background": "light"
     },
     "output_type": "display_data"
    }
   ],
   "source": [
    "south_x= southemi['Lat']\n",
    "south_cld = southemi['Cloudiness']\n",
    "(slope, intercept, rvalue, pvalue, stderr) = linregress(south_x, south_cld)\n",
    "regress_values = south_x * slope + intercept\n",
    "line_eq = \"y = \" + str(round(slope,2)) + \"x + \" + str(round(intercept,2))\n",
    "plt.scatter(south_x, south_cld)\n",
    "plt.plot(south_x,regress_values,\"r-\")\n",
    "plt.annotate(line_eq,(6,10),fontsize=15,color=\"red\")\n",
    "plt.xlabel('Latitude')\n",
    "plt.ylabel('Cloudiness')\n",
    "print(f\"The r-squared is: {rvalue**2}\")\n",
    "\n",
    "#Save PNG\n",
    "plt.savefig(\"S Hemisphere Cloudiness vs Latitude Regression.png\")\n",
    "\n",
    "plt.show()"
   ]
  },
  {
   "cell_type": "markdown",
   "metadata": {},
   "source": [
    "####  Northern Hemisphere - Wind Speed (mph) vs. Latitude Linear Regression"
   ]
  },
  {
   "cell_type": "code",
   "execution_count": 33,
   "metadata": {},
   "outputs": [
    {
     "name": "stdout",
     "output_type": "stream",
     "text": [
      "The r-squared is: 0.015012043011056022\n"
     ]
    },
    {
     "data": {
      "image/png": "[encoded data removed]",
      "text/plain": [
       "<Figure size 432x288 with 1 Axes>"
      ]
     },
     "metadata": {
      "needs_background": "light"
     },
     "output_type": "display_data"
    }
   ],
   "source": [
    "north_x= northemi['Lat']\n",
    "north_speed = northemi['Wind Speed']\n",
    "(slope, intercept, rvalue, pvalue, stderr) = linregress(north_x, north_speed)\n",
    "regress_values = north_x * slope + intercept\n",
    "line_eq = \"y = \" + str(round(slope,2)) + \"x + \" + str(round(intercept,2))\n",
    "plt.scatter(north_x, north_speed)\n",
    "plt.plot(north_x,regress_values,\"r-\")\n",
    "plt.annotate(line_eq,(6,10),color=\"red\")\n",
    "plt.xlabel('Latitude')\n",
    "plt.ylabel('Wind Speed')\n",
    "print(f\"The r-squared is: {rvalue**2}\")\n",
    "\n",
    "#Save PNG\n",
    "plt.savefig(\"N Hemisphere Wind Speed vs Latitude Regression.png\")\n",
    "\n",
    "plt.show()\n"
   ]
  },
  {
   "cell_type": "markdown",
   "metadata": {},
   "source": [
    "####  Southern Hemisphere - Wind Speed (mph) vs. Latitude Linear Regression"
   ]
  },
  {
   "cell_type": "code",
   "execution_count": 37,
   "metadata": {},
   "outputs": [
    {
     "name": "stdout",
     "output_type": "stream",
     "text": [
      "The r-squared is: 0.08735330986545158\n"
     ]
    },
    {
     "data": {
      "image/png": "[encoded data removed]",
      "text/plain": [
       "<Figure size 432x288 with 1 Axes>"
      ]
     },
     "metadata": {
      "needs_background": "light"
     },
     "output_type": "display_data"
    }
   ],
   "source": [
    "south_x= southemi['Lat']\n",
    "south_speed = southemi['Wind Speed']\n",
    "(slope, intercept, rvalue, pvalue, stderr) = linregress(south_x, south_speed)\n",
    "regress_values = south_x * slope + intercept\n",
    "line_eq = \"y = \" + str(round(slope,2)) + \"x + \" + str(round(intercept,2))\n",
    "plt.scatter(south_x, south_speed)\n",
    "plt.plot(south_x,regress_values,\"r-\")\n",
    "plt.annotate(line_eq,(6,10),fontsize=15,color=\"red\")\n",
    "plt.xlabel('Latitude')\n",
    "plt.ylabel('Wind Speed')\n",
    "print(f\"The r-squared is: {rvalue**2}\")\n",
    "\n",
    "#Save PNG\n",
    "plt.savefig(\"S Hemisphere Wind Speed vs Latitude Regression.png\")\n",
    "\n",
    "plt.show()"
   ]
  },
  {
   "cell_type": "code",
   "execution_count": null,
   "metadata": {},
   "outputs": [],
   "source": []
  }
 ],
 "metadata": {
  "anaconda-cloud": {},
  "kernel_info": {
   "name": "python3"
  },
  "kernelspec": {
   "display_name": "Python 3",
   "language": "python",
   "name": "python3"
  },
  "language_info": {
   "codemirror_mode": {
    "name": "ipython",
    "version": 3
   },
   "file_extension": ".py",
   "mimetype": "text/x-python",
   "name": "python",
   "nbconvert_exporter": "python",
   "pygments_lexer": "ipython3",
   "version": "3.8.8"
  },
  "latex_envs": {
   "LaTeX_envs_menu_present": true,
   "autoclose": false,
   "autocomplete": true,
   "bibliofile": "biblio.bib",
   "cite_by": "apalike",
   "current_citInitial": 1,
   "eqLabelWithNumbers": true,
   "eqNumInitial": 1,
   "hotkeys": {
    "equation": "Ctrl-E",
    "itemize": "Ctrl-I"
   },
   "labels_anchors": false,
   "latex_user_defs": false,
   "report_style_numbering": false,
   "user_envs_cfg": false
  },
  "nteract": {
   "version": "0.12.3"
  }
 },
 "nbformat": 4,
 "nbformat_minor": 2
}
